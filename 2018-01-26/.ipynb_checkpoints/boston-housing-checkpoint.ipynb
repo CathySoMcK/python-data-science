{
 "cells": [
  {
   "cell_type": "code",
   "execution_count": 23,
   "metadata": {
    "collapsed": true
   },
   "outputs": [],
   "source": [
    "import pandas as pd\n",
    "import numpy as np\n",
    "from sklearn.datasets import load_boston\n",
    "from sklearn.ensemble import GradientBoostingRegressor\n",
    "from sklearn.model_selection import train_test_split\n",
    "from sklearn.model_selection import KFold\n",
    "from sklearn.model_selection import cross_val_score"
   ]
  },
  {
   "cell_type": "code",
   "execution_count": 2,
   "metadata": {
    "scrolled": true
   },
   "outputs": [
    {
     "name": "stdout",
     "output_type": "stream",
     "text": [
      "Boston House Prices dataset\n",
      "===========================\n",
      "\n",
      "Notes\n",
      "------\n",
      "Data Set Characteristics:  \n",
      "\n",
      "    :Number of Instances: 506 \n",
      "\n",
      "    :Number of Attributes: 13 numeric/categorical predictive\n",
      "    \n",
      "    :Median Value (attribute 14) is usually the target\n",
      "\n",
      "    :Attribute Information (in order):\n",
      "        - CRIM     per capita crime rate by town\n",
      "        - ZN       proportion of residential land zoned for lots over 25,000 sq.ft.\n",
      "        - INDUS    proportion of non-retail business acres per town\n",
      "        - CHAS     Charles River dummy variable (= 1 if tract bounds river; 0 otherwise)\n",
      "        - NOX      nitric oxides concentration (parts per 10 million)\n",
      "        - RM       average number of rooms per dwelling\n",
      "        - AGE      proportion of owner-occupied units built prior to 1940\n",
      "        - DIS      weighted distances to five Boston employment centres\n",
      "        - RAD      index of accessibility to radial highways\n",
      "        - TAX      full-value property-tax rate per $10,000\n",
      "        - PTRATIO  pupil-teacher ratio by town\n",
      "        - B        1000(Bk - 0.63)^2 where Bk is the proportion of blacks by town\n",
      "        - LSTAT    % lower status of the population\n",
      "        - MEDV     Median value of owner-occupied homes in $1000's\n",
      "\n",
      "    :Missing Attribute Values: None\n",
      "\n",
      "    :Creator: Harrison, D. and Rubinfeld, D.L.\n",
      "\n",
      "This is a copy of UCI ML housing dataset.\n",
      "http://archive.ics.uci.edu/ml/datasets/Housing\n",
      "\n",
      "\n",
      "This dataset was taken from the StatLib library which is maintained at Carnegie Mellon University.\n",
      "\n",
      "The Boston house-price data of Harrison, D. and Rubinfeld, D.L. 'Hedonic\n",
      "prices and the demand for clean air', J. Environ. Economics & Management,\n",
      "vol.5, 81-102, 1978.   Used in Belsley, Kuh & Welsch, 'Regression diagnostics\n",
      "...', Wiley, 1980.   N.B. Various transformations are used in the table on\n",
      "pages 244-261 of the latter.\n",
      "\n",
      "The Boston house-price data has been used in many machine learning papers that address regression\n",
      "problems.   \n",
      "     \n",
      "**References**\n",
      "\n",
      "   - Belsley, Kuh & Welsch, 'Regression diagnostics: Identifying Influential Data and Sources of Collinearity', Wiley, 1980. 244-261.\n",
      "   - Quinlan,R. (1993). Combining Instance-Based and Model-Based Learning. In Proceedings on the Tenth International Conference of Machine Learning, 236-243, University of Massachusetts, Amherst. Morgan Kaufmann.\n",
      "   - many more! (see http://archive.ics.uci.edu/ml/datasets/Housing)\n",
      "\n"
     ]
    }
   ],
   "source": [
    "boston = load_boston()\n",
    "print(boston.DESCR)"
   ]
  },
  {
   "cell_type": "code",
   "execution_count": 3,
   "metadata": {},
   "outputs": [
    {
     "data": {
      "text/plain": [
       "array(['CRIM', 'ZN', 'INDUS', 'CHAS', 'NOX', 'RM', 'AGE', 'DIS', 'RAD',\n",
       "       'TAX', 'PTRATIO', 'B', 'LSTAT'],\n",
       "      dtype='<U7')"
      ]
     },
     "execution_count": 3,
     "metadata": {},
     "output_type": "execute_result"
    }
   ],
   "source": [
    "boston.feature_names"
   ]
  },
  {
   "cell_type": "code",
   "execution_count": 5,
   "metadata": {},
   "outputs": [
    {
     "data": {
      "text/plain": [
       "(506, 13)"
      ]
     },
     "execution_count": 5,
     "metadata": {},
     "output_type": "execute_result"
    }
   ],
   "source": [
    "y = boston.target\n",
    "X = boston.data\n",
    "X.shape"
   ]
  },
  {
   "cell_type": "code",
   "execution_count": 7,
   "metadata": {
    "collapsed": true
   },
   "outputs": [],
   "source": [
    "X_train, X_test, y_train, y_test = train_test_split(X, y, test_size=0.33, random_state=42)"
   ]
  },
  {
   "cell_type": "code",
   "execution_count": 8,
   "metadata": {
    "collapsed": true
   },
   "outputs": [],
   "source": [
    "model = GradientBoostingRegressor().fit(X_train, y_train)"
   ]
  },
  {
   "cell_type": "code",
   "execution_count": 9,
   "metadata": {},
   "outputs": [
    {
     "data": {
      "text/plain": [
       "0.89345198609127618"
      ]
     },
     "execution_count": 9,
     "metadata": {},
     "output_type": "execute_result"
    }
   ],
   "source": [
    "model.score(X_test, y_test)"
   ]
  },
  {
   "cell_type": "code",
   "execution_count": 10,
   "metadata": {},
   "outputs": [
    {
     "data": {
      "text/plain": [
       "array([ 0.08365422,  0.006671  ,  0.04522458,  0.00444451,  0.04386784,\n",
       "        0.1908623 ,  0.11128554,  0.13278814,  0.01990131,  0.07753572,\n",
       "        0.05418039,  0.06199874,  0.16758572])"
      ]
     },
     "execution_count": 10,
     "metadata": {},
     "output_type": "execute_result"
    }
   ],
   "source": [
    "model.feature_importances_"
   ]
  },
  {
   "cell_type": "code",
   "execution_count": 11,
   "metadata": {},
   "outputs": [
    {
     "data": {
      "text/plain": [
       "array(['CRIM', 'ZN', 'INDUS', 'CHAS', 'NOX', 'RM', 'AGE', 'DIS', 'RAD',\n",
       "       'TAX', 'PTRATIO', 'B', 'LSTAT'],\n",
       "      dtype='<U7')"
      ]
     },
     "execution_count": 11,
     "metadata": {},
     "output_type": "execute_result"
    }
   ],
   "source": [
    "boston.feature_names"
   ]
  },
  {
   "cell_type": "code",
   "execution_count": 12,
   "metadata": {
    "collapsed": true
   },
   "outputs": [],
   "source": [
    "# run cross validation with KFold and search through a few hyper-parameters to get a better r2 value."
   ]
  },
  {
   "cell_type": "code",
   "execution_count": 29,
   "metadata": {},
   "outputs": [
    {
     "name": "stdout",
     "output_type": "stream",
     "text": [
      "estimators: 10 scores: 0.343697107526\n",
      "estimators: 110 scores: 0.679221053398\n",
      "estimators: 210 scores: 0.672640510789\n",
      "estimators: 310 scores: 0.676701144225\n",
      "estimators: 410 scores: 0.676339763872\n",
      "estimators: 510 scores: 0.674155774669\n",
      "estimators: 610 scores: 0.679638087871\n",
      "estimators: 710 scores: 0.679548816307\n",
      "estimators: 810 scores: 0.670222474197\n",
      "estimators: 910 scores: 0.675252421766\n"
     ]
    }
   ],
   "source": [
    "y = boston.target\n",
    "X = boston.data\n",
    "cv = KFold(n_splits=5)\n",
    "for estimators in range(10, 1000, 100):\n",
    "    model = GradientBoostingRegressor(n_estimators=estimators)\n",
    "    scores = []\n",
    "    for train_i, test_i in cv.split(X):\n",
    "        Xr, yr, Xt, yt = X[train_i], y[train_i], X[test_i], y[test_i]\n",
    "        model.fit(Xr, yr)\n",
    "        scores.append(model.score(Xt, yt))\n",
    "    print('estimators:', estimators, 'scores:', sum(scores)/len(scores))"
   ]
  },
  {
   "cell_type": "code",
   "execution_count": 27,
   "metadata": {
    "scrolled": true
   },
   "outputs": [
    {
     "name": "stdout",
     "output_type": "stream",
     "text": [
      "features: 1 test_scores: 0.377373018017 1 train_scores: 0.951689034345\n",
      "features: 2 test_scores: 0.557926836995 2 train_scores: 0.967686409553\n",
      "features: 3 test_scores: 0.534721181269 3 train_scores: 0.972348843679\n",
      "features: 4 test_scores: 0.571259699 4 train_scores: 0.973607611859\n",
      "features: 5 test_scores: 0.572936713719 5 train_scores: 0.974542544879\n",
      "features: 6 test_scores: 0.565513233076 6 train_scores: 0.975330625155\n",
      "features: 7 test_scores: 0.564937912806 7 train_scores: 0.975996571315\n",
      "features: 8 test_scores: 0.529805329962 8 train_scores: 0.976276810201\n",
      "features: 9 test_scores: 0.53403951802 9 train_scores: 0.976904454633\n",
      "features: 10 test_scores: 0.506369623957 10 train_scores: 0.976970117842\n",
      "features: 11 test_scores: 0.474411112784 11 train_scores: 0.97702590618\n",
      "features: 12 test_scores: 0.49738741471 12 train_scores: 0.977127059645\n",
      "features: 13 test_scores: 0.460092397146 13 train_scores: 0.977208486434\n"
     ]
    }
   ],
   "source": [
    "# from naqi\n",
    "y = boston.target\n",
    "X = boston.data\n",
    "cv = KFold(n_splits=10) #cross validation \n",
    "for features in range(1,14):\n",
    "    model = GradientBoostingRegressor(max_features=features)\n",
    "    train_scores, test_scores = [], []\n",
    "    for train_i, test_i in cv.split(X):\n",
    "        X_train, y_train, X_test, y_test = X[train_i], y[train_i], X[test_i], y[test_i] \n",
    "        # for supervised learning, y are the answers\n",
    "        # let's train it\n",
    "        model.fit(X_train, y_train)\n",
    "        test_scores.append(model.score(X_test, y_test))\n",
    "        train_scores.append(model.score(X_train, y_train))\n",
    "    print('features:', features, 'test_scores:', sum(test_scores)/len(test_scores), features, 'train_scores:', sum(train_scores)/len(train_scores))"
   ]
  },
  {
   "cell_type": "code",
   "execution_count": 28,
   "metadata": {},
   "outputs": [
    {
     "name": "stdout",
     "output_type": "stream",
     "text": [
      "depth: 1 estimators: 100 scores: 0.625474475039 min: 0.439495325668 max: 0.830230827439\n",
      "depth: 2 estimators: 100 scores: 0.695597317852 min: 0.502147956514 max: 0.887923462801\n",
      "depth: 3 estimators: 100 scores: 0.678877101742 min: 0.44218211916 max: 0.854143718276\n",
      "depth: 1 estimators: 200 scores: 0.642533009492 min: 0.477381548047 max: 0.829877445241\n",
      "depth: 2 estimators: 200 scores: 0.708823254061 min: 0.525652161565 max: 0.878652715277\n",
      "depth: 3 estimators: 200 scores: 0.682817649845 min: 0.450994387757 max: 0.845317334766\n",
      "depth: 1 estimators: 300 scores: 0.633710272036 min: 0.456297363933 max: 0.811304008539\n",
      "depth: 2 estimators: 300 scores: 0.709359560776 min: 0.519857682246 max: 0.864619188388\n",
      "depth: 3 estimators: 300 scores: 0.681826348707 min: 0.42497368082 max: 0.849761638856\n",
      "depth: 1 estimators: 400 scores: 0.618515761998 min: 0.404995614422 max: 0.799785503052\n",
      "depth: 2 estimators: 400 scores: 0.703791402973 min: 0.491353936611 max: 0.865280775762\n",
      "depth: 3 estimators: 400 scores: 0.678896432564 min: 0.424511916558 max: 0.851804848733\n",
      "depth: 1 estimators: 500 scores: 0.606775099387 min: 0.369068356154 max: 0.792031504395\n",
      "depth: 2 estimators: 500 scores: 0.696988114396 min: 0.473308685096 max: 0.865842202901\n",
      "depth: 3 estimators: 500 scores: 0.672823782416 min: 0.389028917945 max: 0.854443038529\n",
      "depth: 1 estimators: 600 scores: 0.596125239839 min: 0.328831363977 max: 0.785622424008\n",
      "depth: 2 estimators: 600 scores: 0.683812033894 min: 0.435800719678 max: 0.863642416476\n",
      "depth: 3 estimators: 600 scores: 0.676282644159 min: 0.408875624741 max: 0.845948922439\n",
      "depth: 1 estimators: 700 scores: 0.5886631378 min: 0.307624288869 max: 0.781062753696\n",
      "depth: 2 estimators: 700 scores: 0.693586741906 min: 0.48115700614 max: 0.868975827177\n",
      "depth: 3 estimators: 700 scores: 0.682288789455 min: 0.42711686556 max: 0.847990626234\n",
      "depth: 1 estimators: 800 scores: 0.58082103914 min: 0.283236131881 max: 0.775085286603\n",
      "depth: 2 estimators: 800 scores: 0.684102243017 min: 0.450400665612 max: 0.861890134767\n",
      "depth: 3 estimators: 800 scores: 0.674461373785 min: 0.397972733049 max: 0.850372782174\n",
      "depth: 1 estimators: 900 scores: 0.574497337395 min: 0.272432193113 max: 0.769226632794\n",
      "depth: 2 estimators: 900 scores: 0.689118675726 min: 0.466619709707 max: 0.859770785283\n",
      "depth: 3 estimators: 900 scores: 0.672502559419 min: 0.396352072542 max: 0.850048159641\n"
     ]
    }
   ],
   "source": [
    "# from chyld\n",
    "cv = KFold(n_splits=5)\n",
    "for estimators in range(100, 1000, 100):\n",
    "    for depth in range(1, 4):\n",
    "        model = GradientBoostingRegressor(n_estimators=estimators, max_depth=depth)\n",
    "        scores = []\n",
    "        for train_i, test_i in cv.split(X):\n",
    "            Xr, yr, Xt, yt = X[train_i], y[train_i], X[test_i], y[test_i]\n",
    "            model.fit(Xr, yr)\n",
    "            scores.append(model.score(Xt, yt))\n",
    "        print('depth:', depth, 'estimators:', estimators, 'scores:', sum(scores)/len(scores), 'min:', min(scores), 'max:', max(scores))"
   ]
  },
  {
   "cell_type": "code",
   "execution_count": null,
   "metadata": {},
   "outputs": [],
   "source": []
  },
  {
   "cell_type": "code",
   "execution_count": 32,
   "metadata": {},
   "outputs": [
    {
     "ename": "KeyError",
     "evalue": "'[ 51  52  53  54  55  56  57  58  59  60  61  62  63  64  65  66  67  68\\n  69  70  71  72  73  74  75  76  77  78  79  80  81  82  83  84  85  86\\n  87  88  89  90  91  92  93  94  95  96  97  98  99 100 101 102 103 104\\n 105 106 107 108 109 110 111 112 113 114 115 116 117 118 119 120 121 122\\n 123 124 125 126 127 128 129 130 131 132 133 134 135 136 137 138 139 140\\n 141 142 143 144 145 146 147 148 149 150 151 152 153 154 155 156 157 158\\n 159 160 161 162 163 164 165 166 167 168 169 170 171 172 173 174 175 176\\n 177 178 179 180 181 182 183 184 185 186 187 188 189 190 191 192 193 194\\n 195 196 197 198 199 200 201 202 203 204 205 206 207 208 209 210 211 212\\n 213 214 215 216 217 218 219 220 221 222 223 224 225 226 227 228 229 230\\n 231 232 233 234 235 236 237 238 239 240 241 242 243 244 245 246 247 248\\n 249 250 251 252 253 254 255 256 257 258 259 260 261 262 263 264 265 266\\n 267 268 269 270 271 272 273 274 275 276 277 278 279 280 281 282 283 284\\n 285 286 287 288 289 290 291 292 293 294 295 296 297 298 299 300 301 302\\n 303 304 305 306 307 308 309 310 311 312 313 314 315 316 317 318 319 320\\n 321 322 323 324 325 326 327 328 329 330 331 332 333 334 335 336 337 338\\n 339 340 341 342 343 344 345 346 347 348 349 350 351 352 353 354 355 356\\n 357 358 359 360 361 362 363 364 365 366 367 368 369 370 371 372 373 374\\n 375 376 377 378 379 380 381 382 383 384 385 386 387 388 389 390 391 392\\n 393 394 395 396 397 398 399 400 401 402 403 404 405 406 407 408 409 410\\n 411 412 413 414 415 416 417 418 419 420 421 422 423 424 425 426 427 428\\n 429 430 431 432 433 434 435 436 437 438 439 440 441 442 443 444 445 446\\n 447 448 449 450 451 452 453 454 455 456 457 458 459 460 461 462 463 464\\n 465 466 467 468 469 470 471 472 473 474 475 476 477 478 479 480 481 482\\n 483 484 485 486 487 488 489 490 491 492 493 494 495 496 497 498 499 500\\n 501 502 503 504 505] not in index'",
     "output_type": "error",
     "traceback": [
      "\u001b[1;31m---------------------------------------------------------------------------\u001b[0m",
      "\u001b[1;31mKeyError\u001b[0m                                  Traceback (most recent call last)",
      "\u001b[1;32m<ipython-input-32-fa917296c1eb>\u001b[0m in \u001b[0;36m<module>\u001b[1;34m()\u001b[0m\n\u001b[0;32m     24\u001b[0m         \u001b[0mscores\u001b[0m \u001b[1;33m=\u001b[0m \u001b[1;33m[\u001b[0m\u001b[1;33m]\u001b[0m\u001b[1;33m\u001b[0m\u001b[0m\n\u001b[0;32m     25\u001b[0m         \u001b[1;32mfor\u001b[0m \u001b[0mtrain_i\u001b[0m\u001b[1;33m,\u001b[0m \u001b[0mtest_i\u001b[0m \u001b[1;32min\u001b[0m \u001b[0mcv\u001b[0m\u001b[1;33m.\u001b[0m\u001b[0msplit\u001b[0m\u001b[1;33m(\u001b[0m\u001b[0mX\u001b[0m\u001b[1;33m)\u001b[0m\u001b[1;33m:\u001b[0m\u001b[1;33m\u001b[0m\u001b[0m\n\u001b[1;32m---> 26\u001b[1;33m             \u001b[0mXr\u001b[0m\u001b[1;33m,\u001b[0m \u001b[0myr\u001b[0m\u001b[1;33m,\u001b[0m \u001b[0mXt\u001b[0m\u001b[1;33m,\u001b[0m \u001b[0myt\u001b[0m \u001b[1;33m=\u001b[0m \u001b[0mX\u001b[0m\u001b[1;33m[\u001b[0m\u001b[0mtrain_i\u001b[0m\u001b[1;33m]\u001b[0m\u001b[1;33m,\u001b[0m \u001b[0my\u001b[0m\u001b[1;33m[\u001b[0m\u001b[0mtrain_i\u001b[0m\u001b[1;33m]\u001b[0m\u001b[1;33m,\u001b[0m \u001b[0mX\u001b[0m\u001b[1;33m[\u001b[0m\u001b[0mtest_i\u001b[0m\u001b[1;33m]\u001b[0m\u001b[1;33m,\u001b[0m \u001b[0my\u001b[0m\u001b[1;33m[\u001b[0m\u001b[0mtest_i\u001b[0m\u001b[1;33m]\u001b[0m\u001b[1;33m\u001b[0m\u001b[0m\n\u001b[0m\u001b[0;32m     27\u001b[0m             \u001b[0mmodel\u001b[0m\u001b[1;33m.\u001b[0m\u001b[0mfit\u001b[0m\u001b[1;33m(\u001b[0m\u001b[0mXr\u001b[0m\u001b[1;33m,\u001b[0m \u001b[0myr\u001b[0m\u001b[1;33m)\u001b[0m\u001b[1;33m\u001b[0m\u001b[0m\n\u001b[0;32m     28\u001b[0m             \u001b[0mscores\u001b[0m\u001b[1;33m.\u001b[0m\u001b[0mappend\u001b[0m\u001b[1;33m(\u001b[0m\u001b[0mmodel\u001b[0m\u001b[1;33m.\u001b[0m\u001b[0mscore\u001b[0m\u001b[1;33m(\u001b[0m\u001b[0mXt\u001b[0m\u001b[1;33m,\u001b[0m \u001b[0myt\u001b[0m\u001b[1;33m)\u001b[0m\u001b[1;33m)\u001b[0m\u001b[1;33m\u001b[0m\u001b[0m\n",
      "\u001b[1;32m~\\anaconda\\anaconda3\\envs\\py3\\lib\\site-packages\\pandas\\core\\frame.py\u001b[0m in \u001b[0;36m__getitem__\u001b[1;34m(self, key)\u001b[0m\n\u001b[0;32m   2131\u001b[0m         \u001b[1;32mif\u001b[0m \u001b[0misinstance\u001b[0m\u001b[1;33m(\u001b[0m\u001b[0mkey\u001b[0m\u001b[1;33m,\u001b[0m \u001b[1;33m(\u001b[0m\u001b[0mSeries\u001b[0m\u001b[1;33m,\u001b[0m \u001b[0mnp\u001b[0m\u001b[1;33m.\u001b[0m\u001b[0mndarray\u001b[0m\u001b[1;33m,\u001b[0m \u001b[0mIndex\u001b[0m\u001b[1;33m,\u001b[0m \u001b[0mlist\u001b[0m\u001b[1;33m)\u001b[0m\u001b[1;33m)\u001b[0m\u001b[1;33m:\u001b[0m\u001b[1;33m\u001b[0m\u001b[0m\n\u001b[0;32m   2132\u001b[0m             \u001b[1;31m# either boolean or fancy integer index\u001b[0m\u001b[1;33m\u001b[0m\u001b[1;33m\u001b[0m\u001b[0m\n\u001b[1;32m-> 2133\u001b[1;33m             \u001b[1;32mreturn\u001b[0m \u001b[0mself\u001b[0m\u001b[1;33m.\u001b[0m\u001b[0m_getitem_array\u001b[0m\u001b[1;33m(\u001b[0m\u001b[0mkey\u001b[0m\u001b[1;33m)\u001b[0m\u001b[1;33m\u001b[0m\u001b[0m\n\u001b[0m\u001b[0;32m   2134\u001b[0m         \u001b[1;32melif\u001b[0m \u001b[0misinstance\u001b[0m\u001b[1;33m(\u001b[0m\u001b[0mkey\u001b[0m\u001b[1;33m,\u001b[0m \u001b[0mDataFrame\u001b[0m\u001b[1;33m)\u001b[0m\u001b[1;33m:\u001b[0m\u001b[1;33m\u001b[0m\u001b[0m\n\u001b[0;32m   2135\u001b[0m             \u001b[1;32mreturn\u001b[0m \u001b[0mself\u001b[0m\u001b[1;33m.\u001b[0m\u001b[0m_getitem_frame\u001b[0m\u001b[1;33m(\u001b[0m\u001b[0mkey\u001b[0m\u001b[1;33m)\u001b[0m\u001b[1;33m\u001b[0m\u001b[0m\n",
      "\u001b[1;32m~\\anaconda\\anaconda3\\envs\\py3\\lib\\site-packages\\pandas\\core\\frame.py\u001b[0m in \u001b[0;36m_getitem_array\u001b[1;34m(self, key)\u001b[0m\n\u001b[0;32m   2175\u001b[0m             \u001b[1;32mreturn\u001b[0m \u001b[0mself\u001b[0m\u001b[1;33m.\u001b[0m\u001b[0m_take\u001b[0m\u001b[1;33m(\u001b[0m\u001b[0mindexer\u001b[0m\u001b[1;33m,\u001b[0m \u001b[0maxis\u001b[0m\u001b[1;33m=\u001b[0m\u001b[1;36m0\u001b[0m\u001b[1;33m,\u001b[0m \u001b[0mconvert\u001b[0m\u001b[1;33m=\u001b[0m\u001b[1;32mFalse\u001b[0m\u001b[1;33m)\u001b[0m\u001b[1;33m\u001b[0m\u001b[0m\n\u001b[0;32m   2176\u001b[0m         \u001b[1;32melse\u001b[0m\u001b[1;33m:\u001b[0m\u001b[1;33m\u001b[0m\u001b[0m\n\u001b[1;32m-> 2177\u001b[1;33m             \u001b[0mindexer\u001b[0m \u001b[1;33m=\u001b[0m \u001b[0mself\u001b[0m\u001b[1;33m.\u001b[0m\u001b[0mloc\u001b[0m\u001b[1;33m.\u001b[0m\u001b[0m_convert_to_indexer\u001b[0m\u001b[1;33m(\u001b[0m\u001b[0mkey\u001b[0m\u001b[1;33m,\u001b[0m \u001b[0maxis\u001b[0m\u001b[1;33m=\u001b[0m\u001b[1;36m1\u001b[0m\u001b[1;33m)\u001b[0m\u001b[1;33m\u001b[0m\u001b[0m\n\u001b[0m\u001b[0;32m   2178\u001b[0m             \u001b[1;32mreturn\u001b[0m \u001b[0mself\u001b[0m\u001b[1;33m.\u001b[0m\u001b[0m_take\u001b[0m\u001b[1;33m(\u001b[0m\u001b[0mindexer\u001b[0m\u001b[1;33m,\u001b[0m \u001b[0maxis\u001b[0m\u001b[1;33m=\u001b[0m\u001b[1;36m1\u001b[0m\u001b[1;33m,\u001b[0m \u001b[0mconvert\u001b[0m\u001b[1;33m=\u001b[0m\u001b[1;32mTrue\u001b[0m\u001b[1;33m)\u001b[0m\u001b[1;33m\u001b[0m\u001b[0m\n\u001b[0;32m   2179\u001b[0m \u001b[1;33m\u001b[0m\u001b[0m\n",
      "\u001b[1;32m~\\anaconda\\anaconda3\\envs\\py3\\lib\\site-packages\\pandas\\core\\indexing.py\u001b[0m in \u001b[0;36m_convert_to_indexer\u001b[1;34m(self, obj, axis, is_setter)\u001b[0m\n\u001b[0;32m   1267\u001b[0m                 \u001b[1;32mif\u001b[0m \u001b[0mmask\u001b[0m\u001b[1;33m.\u001b[0m\u001b[0many\u001b[0m\u001b[1;33m(\u001b[0m\u001b[1;33m)\u001b[0m\u001b[1;33m:\u001b[0m\u001b[1;33m\u001b[0m\u001b[0m\n\u001b[0;32m   1268\u001b[0m                     raise KeyError('{mask} not in index'\n\u001b[1;32m-> 1269\u001b[1;33m                                    .format(mask=objarr[mask]))\n\u001b[0m\u001b[0;32m   1270\u001b[0m \u001b[1;33m\u001b[0m\u001b[0m\n\u001b[0;32m   1271\u001b[0m                 \u001b[1;32mreturn\u001b[0m \u001b[0m_values_from_object\u001b[0m\u001b[1;33m(\u001b[0m\u001b[0mindexer\u001b[0m\u001b[1;33m)\u001b[0m\u001b[1;33m\u001b[0m\u001b[0m\n",
      "\u001b[1;31mKeyError\u001b[0m: '[ 51  52  53  54  55  56  57  58  59  60  61  62  63  64  65  66  67  68\\n  69  70  71  72  73  74  75  76  77  78  79  80  81  82  83  84  85  86\\n  87  88  89  90  91  92  93  94  95  96  97  98  99 100 101 102 103 104\\n 105 106 107 108 109 110 111 112 113 114 115 116 117 118 119 120 121 122\\n 123 124 125 126 127 128 129 130 131 132 133 134 135 136 137 138 139 140\\n 141 142 143 144 145 146 147 148 149 150 151 152 153 154 155 156 157 158\\n 159 160 161 162 163 164 165 166 167 168 169 170 171 172 173 174 175 176\\n 177 178 179 180 181 182 183 184 185 186 187 188 189 190 191 192 193 194\\n 195 196 197 198 199 200 201 202 203 204 205 206 207 208 209 210 211 212\\n 213 214 215 216 217 218 219 220 221 222 223 224 225 226 227 228 229 230\\n 231 232 233 234 235 236 237 238 239 240 241 242 243 244 245 246 247 248\\n 249 250 251 252 253 254 255 256 257 258 259 260 261 262 263 264 265 266\\n 267 268 269 270 271 272 273 274 275 276 277 278 279 280 281 282 283 284\\n 285 286 287 288 289 290 291 292 293 294 295 296 297 298 299 300 301 302\\n 303 304 305 306 307 308 309 310 311 312 313 314 315 316 317 318 319 320\\n 321 322 323 324 325 326 327 328 329 330 331 332 333 334 335 336 337 338\\n 339 340 341 342 343 344 345 346 347 348 349 350 351 352 353 354 355 356\\n 357 358 359 360 361 362 363 364 365 366 367 368 369 370 371 372 373 374\\n 375 376 377 378 379 380 381 382 383 384 385 386 387 388 389 390 391 392\\n 393 394 395 396 397 398 399 400 401 402 403 404 405 406 407 408 409 410\\n 411 412 413 414 415 416 417 418 419 420 421 422 423 424 425 426 427 428\\n 429 430 431 432 433 434 435 436 437 438 439 440 441 442 443 444 445 446\\n 447 448 449 450 451 452 453 454 455 456 457 458 459 460 461 462 463 464\\n 465 466 467 468 469 470 471 472 473 474 475 476 477 478 479 480 481 482\\n 483 484 485 486 487 488 489 490 491 492 493 494 495 496 497 498 499 500\\n 501 502 503 504 505] not in index'"
     ]
    }
   ],
   "source": [
    "import time\n",
    "\n",
    "df = pd.DataFrame(boston.data)\n",
    "df.columns = ['CRIM', 'ZN', 'INDUS', 'CHAS', 'NOX', 'RM', 'AGE', 'DIS', 'RAD', 'TAX', 'PTRATIO', 'B', 'LSTAT']\n",
    "y = pd.DataFrame(boston.target)\n",
    "X = df\n",
    "\n",
    "cv = KFold(n_splits = 10)\n",
    "\n",
    "def Elapsed_Time(started):\n",
    "    later = time.time()\n",
    "\n",
    "    hours = int((later - started) / 3600)\n",
    "    minutes = int(((later - started) % 3600) / 60)\n",
    "    seconds = int(((later - started) % 3600) % 60)\n",
    "\n",
    "    return \"%02d:%02d:%02d\" % (hours, minutes, seconds)\n",
    "\n",
    "for feature_count in range(3, len(X.columns) + 1):\n",
    "    start_time = time.time()\n",
    "    for estimator in range (100, 1000, 100):\n",
    "        model = GradientBoostingRegressor(max_features = feature_count, n_estimators = estimator)\n",
    "    #    model = RandomForestClassifier(max_features = feature_count)\n",
    "        scores = []\n",
    "        for train_i, test_i in cv.split(X):\n",
    "            Xr, yr, Xt, yt = X[train_i], y[train_i], X[test_i], y[test_i]\n",
    "            model.fit(Xr, yr)\n",
    "            scores.append(model.score(Xt, yt))\n",
    "        print('features:', feature_count, 'students:', estimator, 'scores:', sum(scores)/len(scores), Elapsed_Time(start_time))"
   ]
  },
  {
   "cell_type": "code",
   "execution_count": 21,
   "metadata": {
    "collapsed": true
   },
   "outputs": [],
   "source": [
    "from sklearn.metrics import r2_score\n",
    "from sklearn import linear_model\n",
    "\n",
    "# assuming you're performing regression\n",
    "clf = linear_model.LinearRegression()\n",
    "cv = KFold(n_splits=5)\n",
    "results = {'r2':[], 'coef':[]}\n",
    "\n",
    "for train, test in cv.split(X, y):\n",
    "    clf.fit(X[train], y[train])\n",
    "    prediction = clf.predict(X[test])\n",
    "    r2 = r2_score(y[test], prediction)\n",
    "    results['r2'].append(r2)\n",
    "    results['coef'].append(clf.coef_)"
   ]
  },
  {
   "cell_type": "code",
   "execution_count": 24,
   "metadata": {},
   "outputs": [
    {
     "data": {
      "text/plain": [
       "0.35074135093251313"
      ]
     },
     "execution_count": 24,
     "metadata": {},
     "output_type": "execute_result"
    }
   ],
   "source": [
    "np.mean(results['r2'])"
   ]
  },
  {
   "cell_type": "code",
   "execution_count": null,
   "metadata": {
    "collapsed": true
   },
   "outputs": [],
   "source": []
  }
 ],
 "metadata": {
  "kernelspec": {
   "display_name": "Python 3",
   "language": "python",
   "name": "python3"
  },
  "language_info": {
   "codemirror_mode": {
    "name": "ipython",
    "version": 3
   },
   "file_extension": ".py",
   "mimetype": "text/x-python",
   "name": "python",
   "nbconvert_exporter": "python",
   "pygments_lexer": "ipython3",
   "version": "3.6.3"
  }
 },
 "nbformat": 4,
 "nbformat_minor": 2
}
